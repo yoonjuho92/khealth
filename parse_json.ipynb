{
 "cells": [
  {
   "cell_type": "code",
   "execution_count": 3,
   "id": "9ba842e9",
   "metadata": {},
   "outputs": [],
   "source": [
    "import json\n",
    "import numpy as np\n",
    "from openai import OpenAI\n",
    "from typing import List\n",
    "import faiss\n",
    "import pickle\n",
    "from dotenv import load_dotenv"
   ]
  },
  {
   "cell_type": "code",
   "execution_count": 6,
   "id": "e922a470",
   "metadata": {},
   "outputs": [],
   "source": [
    "# 환경 변수 설정 (.env 또는 직접 설정)\n",
    "load_dotenv()\n",
    "\n",
    "client = OpenAI()\n",
    "\n",
    "filename = [\"skinner\"]\n",
    "# 2. 텍스트 파싱\n",
    "raw_text = []\n",
    "for n in filename:\n",
    "    with open(f\"{n}.json\", \"r\", encoding=\"utf-8\") as f:\n",
    "        raw_text = json.load(f)"
   ]
  },
  {
   "cell_type": "code",
   "execution_count": 8,
   "id": "73a96586",
   "metadata": {},
   "outputs": [
    {
     "name": "stdout",
     "output_type": "stream",
     "text": [
      "조절은 아동이 새로운 정보를 이해하기 위해 기존 스키마를 수정하거나 새로운 스키마를 창출하는 인지적 과정이다. 이는 기존 스키마로는 더 이상 설명이 불가능한 경험이 주어졌을 때, 사고 구조를 재구성하는 방식으로 작동한다. 조절은 기존의 틀을 유지하려는 동화와 달리, 자신의 사고방식을 유연하게 바꾸는 능동적인 학습 과정이다. 예를 들어, 아동이 고양이를 처음 보고 강아지라고 했다가 '이건 고양이야'라는 피드백을 통해 '고양이'라는 새로운 스키마를 형성하게 되는 것이 조절이다. 조절은 기존의 이해 구조에 충격을 주는 정보를 마주했을 때 일어나며, 이는 인지적 균형 상태를 다시 찾기 위한 자연스러운 반응이다. 피아제는 조절이 없이는 진정한 학습과 발달이 일어날 수 없다고 보았다. 조절은 아동의 인지 구조가 더 정교해지고 현실 세계에 보다 정확하게 적응하도록 돕는다.\n"
     ]
    }
   ],
   "source": [
    "docs = [text[\"content\"] for text in raw_text]\n",
    "metadatas = [{k: v for k, v in text.items() if k != \"content\"} for text in raw_text]\n",
    "\n",
    "print(docs[2])"
   ]
  },
  {
   "cell_type": "code",
   "execution_count": 9,
   "id": "2b24fa8e",
   "metadata": {},
   "outputs": [
    {
     "name": "stdout",
     "output_type": "stream",
     "text": [
      "✅ 벡터스토어 저장 완료\n"
     ]
    }
   ],
   "source": [
    "# OpenAI Embedding\n",
    "def get_embeddings(texts: List[str]) -> List[List[float]]:\n",
    "    response = client.embeddings.create(input=texts, model=\"text-embedding-3-small\")\n",
    "    return [e.embedding for e in response.data]\n",
    "\n",
    "\n",
    "embeddings = get_embeddings(docs)\n",
    "\n",
    "# FAISS 벡터스토어 저장\n",
    "dimension = len(embeddings[0])\n",
    "index = faiss.IndexFlatL2(dimension)\n",
    "index.add(np.array(embeddings).astype(\"float32\"))\n",
    "\n",
    "# 텍스트 + 메타데이터 함께 저장\n",
    "chunks = [{\"doc\": doc, **meta} for doc, meta in zip(docs, metadatas)]\n",
    "\n",
    "with open(\"faiss_chunks.pkl\", \"wb\") as f:\n",
    "    pickle.dump(chunks, f)\n",
    "\n",
    "faiss.write_index(index, \"faiss_index.idx\")\n",
    "print(\"✅ 벡터스토어 저장 완료\")"
   ]
  },
  {
   "cell_type": "code",
   "execution_count": 10,
   "id": "dd257432",
   "metadata": {},
   "outputs": [],
   "source": [
    "# 5. 검색 함수\n",
    "def search(query: str, k: int = 3):\n",
    "    q_embedding = get_embeddings([query])[0]\n",
    "    D, I = index.search(np.array([q_embedding]).astype(\"float32\"), k)\n",
    "    with open(\"faiss_chunks.pkl\", \"rb\") as f:\n",
    "        stored_chunks = pickle.load(f)\n",
    "    return [stored_chunks[i] for i in I[0]]"
   ]
  },
  {
   "cell_type": "code",
   "execution_count": null,
   "id": "80ef1d38",
   "metadata": {},
   "outputs": [
    {
     "name": "stdout",
     "output_type": "stream",
     "text": [
      "Jean Piaget 스키마 (Schema)\n",
      "스키마는 아동이 외부 세계를 인식하고 해석하며 반응하는 방식을 조직화하는 인지적 틀이다. 피아제는 스키마를 '행동적 혹은 정신적 구조물'로 보았으며, 이는 특정 자극이나 상황에 대해 일관된 방식으로 사고하거나 행동하도록 만드는 내부 체계라고 정의했다. 초기에는 단순한 감각운동적 반응(예: 빠는 행동, 쥐는 행동) 수준의 스키마로 시작하지만, 아동이 경험을 축적하면서 점차 복잡한 인지적 스키마로 발전한다. 스키마는 단지 정보를 저장하는 그릇이 아니라, 새로운 자극을 이해하고 예측하게 만드는 능동적인 틀이며, 인지 발달의 출발점이자 핵심 구조이다. 예를 들어, 아동이 '공'이라는 스키마를 가지고 있다면, 새로 접하는 둥글고 굴러가는 물체도 그 스키마 안에서 해석하고 반응하게 된다. 스키마는 학습과 경험을 통해 계속해서 재조직화되며, 이 과정에서 동화와 조절이 핵심 역할을 한다.\n",
      "Jean Piaget 동화 (Assimilation)\n",
      "동화는 아동이 외부 세계로부터 들어오는 새로운 정보를 기존의 스키마에 맞추어 해석하고 통합하는 과정이다. 즉, 이미 가지고 있는 사고 틀을 바탕으로 새로운 자극을 흡수하려는 인지적 작용이다. 이는 외부 세계를 기존 이해 방식에 일치시키는 방식으로 작동하며, 익숙한 상황에서는 매우 효율적인 학습 전략이 된다. 예를 들어, 네발 달린 동물을 모두 '강아지'로 인식하는 아동은 고양이나 양도 강아지로 분류하는 오류를 범할 수 있다. 이는 새로운 정보를 기존 스키마에 맞춰 이해하려는 동화의 전형적 사례다. 동화는 아동이 세상을 더 빠르게 이해하도록 돕지만, 모든 정보가 동화될 수 있는 것은 아니며, 기존 스키마로 설명이 불가능한 정보에 직면할 경우 조절이 필요해진다. 피아제는 동화를 통해 기존 지식이 강화되고, 반복되는 경험 속에서 점차 수정되는 과정을 통해 인지적 성장이 일어난다고 보았다.\n",
      "Jean Piaget 평형 (Equilibration)\n",
      "평형은 아동이 새로운 정보를 받아들이는 과정에서 동화와 조절 간의 균형을 유지하려는 인지적 자기조절 메커니즘이다. 피아제는 인간이 내적으로 인지적 균형 상태를 유지하려는 경향이 있다고 보았으며, 이 균형이 깨졌을 때 인지 발달이 촉진된다고 주장했다. 새로운 경험이 기존 스키마와 일치할 경우 동화를 통해 쉽게 통합되지만, 일치하지 않을 경우 인지적 불균형 상태(disequilibrium)가 발생한다. 이 불균형은 아동에게 혼란을 일으키고, 이를 해소하기 위해 조절이 일어나면서 새로운 스키마가 형성된다. 그리고 다시 균형 상태에 도달하게 되는데, 이 과정을 피아제는 '평형화'라고 불렀다. 평형화는 인지 발달의 중심 원리로, 단순한 정보 습득을 넘어서 사고 구조 자체를 변화시키는 원동력으로 작용한다. 아동은 이러한 불균형과 재균형 과정을 반복하면서 점차 더 복잡하고 정교한 인지 구조를 구축하게 된다.\n"
     ]
    }
   ],
   "source": [
    "results = search(\"우리 아이가 자주 아픈데, 어떻게 해야 할까요?\", k=3)\n",
    "for r in results:\n",
    "    print(r[\"author\"], r[\"title\"])\n",
    "    print(r[\"doc\"])"
   ]
  },
  {
   "cell_type": "code",
   "execution_count": null,
   "id": "15cf2d99",
   "metadata": {},
   "outputs": [],
   "source": []
  }
 ],
 "metadata": {
  "kernelspec": {
   "display_name": "venv",
   "language": "python",
   "name": "python3"
  },
  "language_info": {
   "codemirror_mode": {
    "name": "ipython",
    "version": 3
   },
   "file_extension": ".py",
   "mimetype": "text/x-python",
   "name": "python",
   "nbconvert_exporter": "python",
   "pygments_lexer": "ipython3",
   "version": "3.9.6"
  }
 },
 "nbformat": 4,
 "nbformat_minor": 5
}
