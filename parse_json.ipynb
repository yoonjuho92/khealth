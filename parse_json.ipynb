{
 "cells": [
  {
   "cell_type": "code",
   "execution_count": null,
   "id": "9ba842e9",
   "metadata": {},
   "outputs": [],
   "source": [
    "import json\n",
    "import numpy as np\n",
    "from openai import OpenAI\n",
    "from typing import List\n",
    "import faiss\n",
    "import pickle\n",
    "from dotenv import load_dotenv"
   ]
  },
  {
   "cell_type": "code",
   "execution_count": null,
   "id": "e922a470",
   "metadata": {},
   "outputs": [],
   "source": [
    "# 환경 변수 설정 (.env 또는 직접 설정)\n",
    "load_dotenv()\n",
    "\n",
    "client = OpenAI()\n",
    "\n",
    "filename = [\"skinner\", \"bowlby\", \"piaget\", \"erikson\"]\n",
    "# 2. 텍스트 파싱\n",
    "raw_text = []\n",
    "for n in filename:\n",
    "    with open(f\"texts/{n}.json\", \"r\", encoding=\"utf-8\") as f:\n",
    "        raw_text += json.load(f)\n",
    "        print(len(raw_text))"
   ]
  },
  {
   "cell_type": "code",
   "execution_count": null,
   "id": "73a96586",
   "metadata": {},
   "outputs": [],
   "source": [
    "docs = [text[\"content\"] for text in raw_text]\n",
    "metadatas = [{k: v for k, v in text.items() if k != \"content\"} for text in raw_text]\n",
    "\n",
    "author = []\n",
    "for data in metadatas:\n",
    "    if data[\"author\"] not in author:\n",
    "        author.append(data[\"author\"])\n",
    "\n",
    "print(author)"
   ]
  },
  {
   "cell_type": "code",
   "execution_count": null,
   "id": "2b24fa8e",
   "metadata": {},
   "outputs": [],
   "source": [
    "# OpenAI Embedding\n",
    "def get_embeddings(texts: List[str]) -> List[List[float]]:\n",
    "    response = client.embeddings.create(input=texts, model=\"text-embedding-3-small\")\n",
    "    return [e.embedding for e in response.data]\n",
    "\n",
    "\n",
    "embeddings = get_embeddings(docs)\n",
    "\n",
    "# FAISS 벡터스토어 저장\n",
    "dimension = len(embeddings[0])\n",
    "index = faiss.IndexFlatL2(dimension)\n",
    "index.add(np.array(embeddings).astype(\"float32\"))\n",
    "\n",
    "# 텍스트 + 메타데이터 함께 저장\n",
    "chunks = [{\"doc\": doc, **meta} for doc, meta in zip(docs, metadatas)]\n",
    "\n",
    "with open(\"faiss_chunks.pkl\", \"wb\") as f:\n",
    "    pickle.dump(chunks, f)\n",
    "\n",
    "faiss.write_index(index, \"faiss_index.idx\")\n",
    "print(\"✅ 벡터스토어 저장 완료\")"
   ]
  },
  {
   "cell_type": "code",
   "execution_count": null,
   "id": "dd257432",
   "metadata": {},
   "outputs": [],
   "source": [
    "# 5. 검색 함수\n",
    "def search(query: str, k: int = 3):\n",
    "    q_embedding = get_embeddings([query])[0]\n",
    "    D, I = index.search(np.array([q_embedding]).astype(\"float32\"), k)\n",
    "    with open(\"faiss_chunks.pkl\", \"rb\") as f:\n",
    "        stored_chunks = pickle.load(f)\n",
    "    return [stored_chunks[i] for i in I[0]]"
   ]
  },
  {
   "cell_type": "code",
   "execution_count": 64,
   "id": "80ef1d38",
   "metadata": {},
   "outputs": [
    {
     "name": "stdout",
     "output_type": "stream",
     "text": [
      "John Bowlby 민감한 양육 (Maternal Sensitivity / Responsive Caregiving)\n",
      "볼비와 아인스워스는 양육자의 **민감성(Maternal Sensitivity)**이 안정 애착 형성의 핵심 요인이라고 강조했습니다. 민감한 양육이란 양육자가 유아의 신호(울음, 미소, 몸짓 등)에 **주의를 기울이고, 정확하게 해석하며, 적절하고 즉각적으로 반응**하는 능력을 의미합니다. 예를 들어, 아이가 배고파서 울 때 즉시 수유하고, 놀고 싶어 미소 지을 때 함께 놀아주는 것이 민감한 양육의 예입니다. 양육자의 이러한 민감한 반응은 아이에게 '내가 도움을 요청하면, 부모는 나를 이해하고 도와줄 것이다'라는 신뢰감을 형성하게 하여 긍정적인 내적 작동 모델과 안정적인 애착을 발달시킵니다. 반대로, 비민감하거나 예측 불가능한 양육은 불안정 애착 형성으로 이어질 수 있습니다. 민감성은 타고나는 것이 아니라 학습될 수 있는 기술이며, 부모 교육 프로그램을 통해 향상될 수 있습니다.\n",
      "Jean Piaget 조절 (Accommodation)\n",
      "조절은 아동이 새로운 정보를 이해하기 위해 기존 스키마를 수정하거나 새로운 스키마를 창출하는 인지적 과정이다. 이는 기존 스키마로는 더 이상 설명이 불가능한 경험이 주어졌을 때, 사고 구조를 재구성하는 방식으로 작동한다. 조절은 기존의 틀을 유지하려는 동화와 달리, 자신의 사고방식을 유연하게 바꾸는 능동적인 학습 과정이다. 예를 들어, 아동이 고양이를 처음 보고 강아지라고 했다가 '이건 고양이야'라는 피드백을 통해 '고양이'라는 새로운 스키마를 형성하게 되는 것이 조절이다. 조절은 기존의 이해 구조에 충격을 주는 정보를 마주했을 때 일어나며, 이는 인지적 균형 상태를 다시 찾기 위한 자연스러운 반응이다. 피아제는 조절이 없이는 진정한 학습과 발달이 일어날 수 없다고 보았다. 조절은 아동의 인지 구조가 더 정교해지고 현실 세계에 보다 정확하게 적응하도록 돕는다.\n",
      "B.F. Skinner 복잡한 행동 가르치기: 행동 조성과 연쇄 (Shaping and Chaining for Complex Behaviors)\n",
      "아이가 한 번에 수행하기 어려운 복잡한 기술, 예를 들어 자전거 타기, 방 청소하기, 글씨 쓰기 등을 가르칠 때에는 보다 체계적인 접근이 필요합니다. 스키너 이론은 이러한 복잡한 행동을 효과적으로 가르치기 위한 두 가지 핵심 기법인 **행동 조성(Shaping)**과 **행동 연쇄(Chaining)**를 제시합니다. 이 기법들은 단순히 행동을 가르치는 것을 넘어, 아이가 독립적으로 복잡한 과업을 수행할 수 있는 역량을 키워주는 데 기여합니다.\n"
     ]
    }
   ],
   "source": [
    "results = search(\"선생님이랑 사이가 안 좋은 아이\", k=3)\n",
    "for r in results:\n",
    "    print(r[\"author\"], r[\"title\"])\n",
    "    print(r[\"doc\"])"
   ]
  },
  {
   "cell_type": "code",
   "execution_count": null,
   "id": "15cf2d99",
   "metadata": {},
   "outputs": [],
   "source": []
  }
 ],
 "metadata": {
  "kernelspec": {
   "display_name": "venv",
   "language": "python",
   "name": "python3"
  },
  "language_info": {
   "codemirror_mode": {
    "name": "ipython",
    "version": 3
   },
   "file_extension": ".py",
   "mimetype": "text/x-python",
   "name": "python",
   "nbconvert_exporter": "python",
   "pygments_lexer": "ipython3",
   "version": "3.9.6"
  }
 },
 "nbformat": 4,
 "nbformat_minor": 5
}
